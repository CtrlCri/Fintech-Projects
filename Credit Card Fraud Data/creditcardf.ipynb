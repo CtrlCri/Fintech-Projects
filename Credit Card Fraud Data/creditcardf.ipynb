{
 "cells": [
  {
   "cell_type": "code",
   "execution_count": null,
   "metadata": {},
   "outputs": [],
   "source": [
    "import pandas as pd\n",
    "import numpy as np\n",
    "\n",
    "# Cargar los datos de la competencia\n",
    "#train_identity = pd.read_csv('creditcard.csv')\n",
    "train_transaction = pd.read_csv('train_transaction.csv')\n",
    "\n",
    "# Unir los conjuntos de datos de identidad y transacción\n",
    "train = pd.merge(train_transaction, train_identity, on='TransactionID', how='left')\n",
    "\n",
    "# Visualizar los primeros registros del conjunto de datos\n",
    "train.head()"
   ]
  },
  {
   "cell_type": "code",
   "execution_count": null,
   "metadata": {},
   "outputs": [],
   "source": []
  }
 ],
 "metadata": {
  "language_info": {
   "name": "python"
  },
  "orig_nbformat": 4
 },
 "nbformat": 4,
 "nbformat_minor": 2
}
